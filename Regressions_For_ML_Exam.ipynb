{
 "cells": [
  {
   "cell_type": "code",
   "execution_count": 130,
   "metadata": {},
   "outputs": [],
   "source": [
    "import numpy as np\n",
    "import pandas as pd\n",
    "from sklearn.linear_model import LinearRegression\n",
    "from sklearn.svm import SVR\n",
    "from sklearn.linear_model import LogisticRegression\n",
    "from sklearn.feature_extraction.text import CountVectorizer\n",
    "from sklearn import svm\n",
    "from sklearn.ensemble import RandomForestRegressor\n",
    "from sklearn.neighbors import KNeighborsRegressor\n",
    "from sklearn.metrics import explained_variance_score\n",
    "from sklearn.metrics import accuracy_score"
   ]
  },
  {
   "cell_type": "code",
   "execution_count": 2,
   "metadata": {},
   "outputs": [],
   "source": [
    "np.set_printoptions(precision=2)"
   ]
  },
  {
   "cell_type": "code",
   "execution_count": 3,
   "metadata": {},
   "outputs": [],
   "source": [
    "data = pd.read_csv('final_cars_datasets_1.csv', error_bad_lines=False)"
   ]
  },
  {
   "cell_type": "markdown",
   "metadata": {},
   "source": [
    "**Сведем эту таблицу к данным, имеющим одинаковую марку, модель, год, трансмиссию и т.д. Различия в этих данных будут заключаться только в пробеге и цене.**\n"
   ]
  },
  {
   "cell_type": "code",
   "execution_count": 161,
   "metadata": {},
   "outputs": [],
   "source": [
    "hd=data[(data[\"mark\"] == \"honda\") &(data[\"model\"] == \"fit\")& (data[\"transmission\"] == \"at\") & (data[\"year\"] == 2005) & (data[\"engine_capacity\"] == 1300) & (data[\"drive\"]==\"2wd\")]"
   ]
  },
  {
   "cell_type": "code",
   "execution_count": 162,
   "metadata": {},
   "outputs": [
    {
     "data": {
      "text/html": [
       "<div>\n",
       "<style scoped>\n",
       "    .dataframe tbody tr th:only-of-type {\n",
       "        vertical-align: middle;\n",
       "    }\n",
       "\n",
       "    .dataframe tbody tr th {\n",
       "        vertical-align: top;\n",
       "    }\n",
       "\n",
       "    .dataframe thead th {\n",
       "        text-align: right;\n",
       "    }\n",
       "</style>\n",
       "<table border=\"1\" class=\"dataframe\">\n",
       "  <thead>\n",
       "    <tr style=\"text-align: right;\">\n",
       "      <th></th>\n",
       "      <th>Unnamed: 0</th>\n",
       "      <th>price</th>\n",
       "      <th>mark</th>\n",
       "      <th>model</th>\n",
       "      <th>year</th>\n",
       "      <th>mileage</th>\n",
       "      <th>engine_capacity</th>\n",
       "      <th>transmission</th>\n",
       "      <th>drive</th>\n",
       "      <th>hand_drive</th>\n",
       "      <th>fuel</th>\n",
       "    </tr>\n",
       "  </thead>\n",
       "  <tbody>\n",
       "    <tr>\n",
       "      <th>255</th>\n",
       "      <td>259</td>\n",
       "      <td>569</td>\n",
       "      <td>honda</td>\n",
       "      <td>fit</td>\n",
       "      <td>2005</td>\n",
       "      <td>116000</td>\n",
       "      <td>1300</td>\n",
       "      <td>at</td>\n",
       "      <td>2wd</td>\n",
       "      <td>rhd</td>\n",
       "      <td>gasoline</td>\n",
       "    </tr>\n",
       "    <tr>\n",
       "      <th>316</th>\n",
       "      <td>320</td>\n",
       "      <td>616</td>\n",
       "      <td>honda</td>\n",
       "      <td>fit</td>\n",
       "      <td>2005</td>\n",
       "      <td>108200</td>\n",
       "      <td>1300</td>\n",
       "      <td>at</td>\n",
       "      <td>2wd</td>\n",
       "      <td>rhd</td>\n",
       "      <td>gasoline</td>\n",
       "    </tr>\n",
       "    <tr>\n",
       "      <th>393</th>\n",
       "      <td>397</td>\n",
       "      <td>655</td>\n",
       "      <td>honda</td>\n",
       "      <td>fit</td>\n",
       "      <td>2005</td>\n",
       "      <td>105892</td>\n",
       "      <td>1300</td>\n",
       "      <td>at</td>\n",
       "      <td>2wd</td>\n",
       "      <td>rhd</td>\n",
       "      <td>gasoline</td>\n",
       "    </tr>\n",
       "    <tr>\n",
       "      <th>610</th>\n",
       "      <td>617</td>\n",
       "      <td>790</td>\n",
       "      <td>honda</td>\n",
       "      <td>fit</td>\n",
       "      <td>2005</td>\n",
       "      <td>99000</td>\n",
       "      <td>1300</td>\n",
       "      <td>at</td>\n",
       "      <td>2wd</td>\n",
       "      <td>rhd</td>\n",
       "      <td>gasoline</td>\n",
       "    </tr>\n",
       "    <tr>\n",
       "      <th>620</th>\n",
       "      <td>627</td>\n",
       "      <td>790</td>\n",
       "      <td>honda</td>\n",
       "      <td>fit</td>\n",
       "      <td>2005</td>\n",
       "      <td>90000</td>\n",
       "      <td>1300</td>\n",
       "      <td>at</td>\n",
       "      <td>2wd</td>\n",
       "      <td>rhd</td>\n",
       "      <td>gasoline</td>\n",
       "    </tr>\n",
       "    <tr>\n",
       "      <th>628</th>\n",
       "      <td>635</td>\n",
       "      <td>790</td>\n",
       "      <td>honda</td>\n",
       "      <td>fit</td>\n",
       "      <td>2005</td>\n",
       "      <td>81000</td>\n",
       "      <td>1300</td>\n",
       "      <td>at</td>\n",
       "      <td>2wd</td>\n",
       "      <td>rhd</td>\n",
       "      <td>gasoline</td>\n",
       "    </tr>\n",
       "    <tr>\n",
       "      <th>968</th>\n",
       "      <td>976</td>\n",
       "      <td>933</td>\n",
       "      <td>honda</td>\n",
       "      <td>fit</td>\n",
       "      <td>2005</td>\n",
       "      <td>59475</td>\n",
       "      <td>1300</td>\n",
       "      <td>at</td>\n",
       "      <td>2wd</td>\n",
       "      <td>rhd</td>\n",
       "      <td>gasoline</td>\n",
       "    </tr>\n",
       "    <tr>\n",
       "      <th>1485</th>\n",
       "      <td>1501</td>\n",
       "      <td>1120</td>\n",
       "      <td>honda</td>\n",
       "      <td>fit</td>\n",
       "      <td>2005</td>\n",
       "      <td>36000</td>\n",
       "      <td>1300</td>\n",
       "      <td>at</td>\n",
       "      <td>2wd</td>\n",
       "      <td>rhd</td>\n",
       "      <td>gasoline</td>\n",
       "    </tr>\n",
       "  </tbody>\n",
       "</table>\n",
       "</div>"
      ],
      "text/plain": [
       "      Unnamed: 0  price   mark model  year  mileage  engine_capacity  \\\n",
       "255          259    569  honda   fit  2005   116000             1300   \n",
       "316          320    616  honda   fit  2005   108200             1300   \n",
       "393          397    655  honda   fit  2005   105892             1300   \n",
       "610          617    790  honda   fit  2005    99000             1300   \n",
       "620          627    790  honda   fit  2005    90000             1300   \n",
       "628          635    790  honda   fit  2005    81000             1300   \n",
       "968          976    933  honda   fit  2005    59475             1300   \n",
       "1485        1501   1120  honda   fit  2005    36000             1300   \n",
       "\n",
       "     transmission drive hand_drive      fuel  \n",
       "255            at   2wd        rhd  gasoline  \n",
       "316            at   2wd        rhd  gasoline  \n",
       "393            at   2wd        rhd  gasoline  \n",
       "610            at   2wd        rhd  gasoline  \n",
       "620            at   2wd        rhd  gasoline  \n",
       "628            at   2wd        rhd  gasoline  \n",
       "968            at   2wd        rhd  gasoline  \n",
       "1485           at   2wd        rhd  gasoline  "
      ]
     },
     "execution_count": 162,
     "metadata": {},
     "output_type": "execute_result"
    }
   ],
   "source": [
    "hd"
   ]
  },
  {
   "cell_type": "code",
   "execution_count": 163,
   "metadata": {},
   "outputs": [],
   "source": [
    "x=np.array(hd[\"mileage\"]).reshape((-1,1))\n",
    "y=np.array(hd[\"price\"])"
   ]
  },
  {
   "cell_type": "code",
   "execution_count": 164,
   "metadata": {},
   "outputs": [
    {
     "data": {
      "text/plain": [
       "array([ 569,  616,  655,  790,  790,  790,  933, 1120], dtype=int64)"
      ]
     },
     "execution_count": 164,
     "metadata": {},
     "output_type": "execute_result"
    }
   ],
   "source": [
    "y"
   ]
  },
  {
   "cell_type": "markdown",
   "metadata": {},
   "source": [
    "## Линейная регрессия ##"
   ]
  },
  {
   "cell_type": "code",
   "execution_count": 165,
   "metadata": {},
   "outputs": [],
   "source": [
    "model = LinearRegression()"
   ]
  },
  {
   "cell_type": "code",
   "execution_count": 166,
   "metadata": {},
   "outputs": [
    {
     "data": {
      "text/plain": [
       "LinearRegression()"
      ]
     },
     "execution_count": 166,
     "metadata": {},
     "output_type": "execute_result"
    }
   ],
   "source": [
    "model.fit(x, y)"
   ]
  },
  {
   "cell_type": "code",
   "execution_count": 167,
   "metadata": {},
   "outputs": [
    {
     "name": "stdout",
     "output_type": "stream",
     "text": [
      "coefficient of determination: 0.9499656712534658\n"
     ]
    }
   ],
   "source": [
    "r_sq = model.score(x, y)\n",
    "print('coefficient of determination:', r_sq)"
   ]
  },
  {
   "cell_type": "code",
   "execution_count": 168,
   "metadata": {},
   "outputs": [],
   "source": [
    "#print('intercept:', model.intercept_)"
   ]
  },
  {
   "cell_type": "code",
   "execution_count": 169,
   "metadata": {},
   "outputs": [],
   "source": [
    "#print('slope:', model.coef_)"
   ]
  },
  {
   "cell_type": "code",
   "execution_count": 170,
   "metadata": {},
   "outputs": [
    {
     "name": "stdout",
     "output_type": "stream",
     "text": [
      "predicted response:\n",
      "[ 595.98  646.15  661.    705.33  763.23  821.12  959.59 1110.59]\n"
     ]
    }
   ],
   "source": [
    "y_pred = model.predict(x)\n",
    "print('predicted response:', y_pred, sep='\\n')"
   ]
  },
  {
   "cell_type": "markdown",
   "metadata": {},
   "source": [
    "## Метод опорных векторов ##"
   ]
  },
  {
   "cell_type": "code",
   "execution_count": 171,
   "metadata": {},
   "outputs": [
    {
     "name": "stdout",
     "output_type": "stream",
     "text": [
      "predicted response:\n",
      "[788.19 788.39 788.52 789.03 789.73 790.27 791.3  791.5 ]\n"
     ]
    }
   ],
   "source": [
    "opvec = SVR()\n",
    "opvec.fit(x, y)\n",
    "y_pred = opvec.predict(x)\n",
    "#accuracy = model.score(x, y)\n",
    "print('predicted response:', y_pred, sep='\\n')\n",
    "#print(\"Точность метода опорных векторов:\", accuracy)"
   ]
  },
  {
   "cell_type": "markdown",
   "metadata": {},
   "source": [
    "## Логистическая регрессия ##"
   ]
  },
  {
   "cell_type": "code",
   "execution_count": 172,
   "metadata": {},
   "outputs": [
    {
     "name": "stdout",
     "output_type": "stream",
     "text": [
      "predicted response:\n",
      "[790 790 790 790 790 790 790 790]\n"
     ]
    }
   ],
   "source": [
    "logic = LogisticRegression(max_iter = 10000)\n",
    "logic.fit(x, y);\n",
    "y_pred = logic.predict(x)\n",
    "print('predicted response:', y_pred, sep='\\n')\n"
   ]
  },
  {
   "cell_type": "markdown",
   "metadata": {},
   "source": [
    "## Дополнительный метод ##"
   ]
  },
  {
   "cell_type": "code",
   "execution_count": 175,
   "metadata": {},
   "outputs": [
    {
     "name": "stdout",
     "output_type": "stream",
     "text": [
      "predicted response:\n",
      "[ 584.83  622.94  658.69  756.35  785.95  791.51  916.5  1029.47]\n"
     ]
    }
   ],
   "source": [
    "forest = RandomForestRegressor()\n",
    "forest.fit(x, y)\n",
    "y_pred = forest.predict(x)\n",
    "print('predicted response:', y_pred, sep='\\n')\n"
   ]
  }
 ],
 "metadata": {
  "kernelspec": {
   "display_name": "Python 3",
   "language": "python",
   "name": "python3"
  },
  "language_info": {
   "codemirror_mode": {
    "name": "ipython",
    "version": 3
   },
   "file_extension": ".py",
   "mimetype": "text/x-python",
   "name": "python",
   "nbconvert_exporter": "python",
   "pygments_lexer": "ipython3",
   "version": "3.8.3"
  }
 },
 "nbformat": 4,
 "nbformat_minor": 4
}
